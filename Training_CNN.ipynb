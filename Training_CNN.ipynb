{
 "cells": [
  {
   "cell_type": "markdown",
   "metadata": {},
   "source": [
    "# CNN for digits and operators"
   ]
  },
  {
   "cell_type": "code",
   "execution_count": 1,
   "metadata": {},
   "outputs": [],
   "source": [
    "#load of the datas numbers"
   ]
  },
  {
   "cell_type": "code",
   "execution_count": 14,
   "metadata": {},
   "outputs": [],
   "source": [
    "import tarfile\n",
    "import os\n",
    "import scipy.io\n",
    "import numpy as np\n",
    "\n",
    "\n",
    "data_base_path = os.path.join(os.pardir, 'data')\n",
    "data_folder = 'lab-03-data'\n",
    "tar_path = os.path.join(data_base_path, data_folder + '.tar.gz')\n",
    "with tarfile.open(tar_path, mode='r:gz') as tar:\n",
    "    tar.extractall(path=data_base_path)"
   ]
  },
  {
   "cell_type": "code",
   "execution_count": 15,
   "metadata": {},
   "outputs": [],
   "source": [
    "import gzip\n",
    "import numpy as np\n",
    "import matplotlib.pyplot as plt\n",
    "\n",
    "def extract_data(filename, image_shape, image_number):\n",
    "    with gzip.open(filename) as bytestream:\n",
    "        bytestream.read(16)\n",
    "        buf = bytestream.read(np.prod(image_shape) * image_number)\n",
    "        data = np.frombuffer(buf, dtype=np.uint8).astype(np.float32)\n",
    "        data = data.reshape(image_number, image_shape[0], image_shape[1])\n",
    "    return data\n",
    "\n",
    "\n",
    "def extract_labels(filename, image_number):\n",
    "    with gzip.open(filename) as bytestream:\n",
    "        bytestream.read(8)\n",
    "        buf = bytestream.read(1 * image_number)\n",
    "        labels = np.frombuffer(buf, dtype=np.uint8).astype(np.int64)\n",
    "    return labels"
   ]
  },
  {
   "cell_type": "code",
   "execution_count": 16,
   "metadata": {},
   "outputs": [],
   "source": [
    "image_shape = (28, 28)\n",
    "train_set_size = 60000\n",
    "test_set_size = 10000\n",
    "\n",
    "data_part2_folder = os.path.join(data_base_path, data_folder, 'part2')\n",
    "\n",
    "train_images_path = os.path.join(data_part2_folder, 'train-images-idx3-ubyte.gz')\n",
    "train_labels_path = os.path.join(data_part2_folder, 'train-labels-idx1-ubyte.gz')\n",
    "test_images_path = os.path.join(data_part2_folder, 't10k-images-idx3-ubyte.gz')\n",
    "test_labels_path = os.path.join(data_part2_folder, 't10k-labels-idx1-ubyte.gz')\n",
    "\n",
    "train_images = extract_data(train_images_path, image_shape, train_set_size)\n",
    "test_images = extract_data(test_images_path, image_shape, test_set_size)\n",
    "train_labels = extract_labels(train_labels_path, train_set_size)\n",
    "test_labels = extract_labels(test_labels_path, test_set_size)"
   ]
  },
  {
   "cell_type": "code",
   "execution_count": 17,
   "metadata": {},
   "outputs": [
    {
     "data": {
      "image/png": "[encoded data removed]",
      "text/plain": [
       "<Figure size 864x216 with 10 Axes>"
      ]
     },
     "metadata": {
      "needs_background": "light"
     },
     "output_type": "display_data"
    }
   ],
   "source": [
    "prng = np.random.RandomState(seed=23355553)  # seed to always re-draw the same distribution\n",
    "plt_ind = prng.randint(low=0, high=train_set_size, size=10)\n",
    "\n",
    "fig, axes = plt.subplots(1, 10, figsize=(12, 3))\n",
    "for ax, im, lb in zip(axes, train_images[plt_ind], train_labels[plt_ind]):\n",
    "    ax.imshow(im, cmap='gray')\n",
    "    ax.axis('off')\n",
    "    ax.set_title(lb)"
   ]
  },
  {
   "cell_type": "code",
   "execution_count": 18,
   "metadata": {},
   "outputs": [],
   "source": [
    "from sklearn.neural_network import MLPClassifier\n",
    "from sklearn.metrics import accuracy_score"
   ]
  },
  {
   "cell_type": "code",
   "execution_count": 19,
   "metadata": {},
   "outputs": [],
   "source": [
    "from sklearn.preprocessing import StandardScaler"
   ]
  },
  {
   "cell_type": "code",
   "execution_count": 20,
   "metadata": {},
   "outputs": [],
   "source": [
    "import cv2\n",
    "import numpy as np\n",
    "from skimage import io \n",
    "from skimage.transform import rotate, AffineTransform, warp\n",
    "import matplotlib.pyplot as plt\n",
    "import random\n",
    "from skimage import img_as_ubyte\n",
    "import os\n",
    "from skimage.util import random_noise\n",
    "import joblib"
   ]
  },
  {
   "cell_type": "code",
   "execution_count": 21,
   "metadata": {},
   "outputs": [],
   "source": [
    "train_images_augmented=[]\n",
    "for i in train_images:\n",
    "    train_images_augmented.append(i.tolist())\n",
    "\n",
    "train_labels_augmented=[]\n",
    "for i in train_labels:\n",
    "    train_labels_augmented.append(i)"
   ]
  },
  {
   "cell_type": "code",
   "execution_count": 22,
   "metadata": {},
   "outputs": [],
   "source": [
    "#load the operators"
   ]
  },
  {
   "cell_type": "code",
   "execution_count": 23,
   "metadata": {},
   "outputs": [],
   "source": [
    "import cv2\n",
    "\n",
    "plus = cv2.imread('plus.png')\n",
    "minus = cv2.imread('moins.png')\n",
    "divide = cv2.imread('divide.png')\n",
    "multiply = cv2.imread('multiply.png')\n",
    "equal = cv2.imread('egal.png')\n",
    "operators=[plus,minus,divide,multiply,equal]\n",
    "op=[10,11,12,13,14]\n",
    "dilat=[np.ones((1,1),np.uint8),np.ones((2,2),np.uint8),np.ones((3,3),np.uint8)]\n",
    "\n"
   ]
  },
  {
   "cell_type": "code",
   "execution_count": 24,
   "metadata": {},
   "outputs": [],
   "source": [
    "#convert the pngs of the operators to the right size and shift them to better train our cnn"
   ]
  },
  {
   "cell_type": "code",
   "execution_count": 25,
   "metadata": {},
   "outputs": [],
   "source": [
    "for i in operators:\n",
    "    image = cv2.resize(i, (28, 28), interpolation=cv2.INTER_AREA)\n",
    "    rows,cols=image.shape[:2]\n",
    "    invert = cv2.bitwise_not(image)\n",
    "    graym = cv2.cvtColor(invert, cv2.COLOR_BGR2GRAY)\n",
    "    train_images_augmented.append(graym.tolist())\n",
    "    for v in dilat:\n",
    "        image = cv2.resize(i, (28, 28), interpolation=cv2.INTER_AREA)\n",
    "        image = cv2.dilate(image, v)\n",
    "        invert = cv2.bitwise_not(image)\n",
    "        gray = cv2.cvtColor(invert, cv2.COLOR_BGR2GRAY)\n",
    "        train_images_augmented.append(gray.tolist())\n",
    "        image = cv2.resize(i, (28, 28), interpolation=cv2.INTER_AREA)\n",
    "        image = cv2.erode(image, v)\n",
    "        invert = cv2.bitwise_not(image)\n",
    "        graym = cv2.cvtColor(invert, cv2.COLOR_BGR2GRAY)\n",
    "        train_images_augmented.append(graym.tolist())\n",
    "        for k in range(20):\n",
    "            M=np.float32([[1, 0, random.randint(-3,3)], [0, 1, random.randint(-3,3)]])\n",
    "            gray=cv2.warpAffine(gray,M,(cols,rows))\n",
    "            gray=cv2.warpAffine(graym,M,(cols,rows))\n",
    "            train_images_augmented.append(gray.tolist())\n",
    "            train_images_augmented.append(graym.tolist())"
   ]
  },
  {
   "cell_type": "code",
   "execution_count": 26,
   "metadata": {},
   "outputs": [],
   "source": [
    "for i in op:\n",
    "    for j in range(1+(((20*2)+2)*len(dilat))):\n",
    "        train_labels_augmented.append(i)\n",
    "train_labels_augmented=np.array(train_labels_augmented)"
   ]
  },
  {
   "cell_type": "code",
   "execution_count": 27,
   "metadata": {},
   "outputs": [],
   "source": [
    "train_images_augmented=np.array(train_images_augmented)"
   ]
  },
  {
   "cell_type": "code",
   "execution_count": 28,
   "metadata": {},
   "outputs": [],
   "source": [
    "#we train our cnn here"
   ]
  },
  {
   "cell_type": "code",
   "execution_count": 29,
   "metadata": {},
   "outputs": [
    {
     "name": "stderr",
     "output_type": "stream",
     "text": [
      "Using TensorFlow backend.\n",
      "C:\\Users\\JambonEmmental\\Anaconda3\\lib\\site-packages\\tensorflow\\python\\framework\\dtypes.py:526: FutureWarning: Passing (type, 1) or '1type' as a synonym of type is deprecated; in a future version of numpy, it will be understood as (type, (1,)) / '(1,)type'.\n",
      "  _np_qint8 = np.dtype([(\"qint8\", np.int8, 1)])\n",
      "C:\\Users\\JambonEmmental\\Anaconda3\\lib\\site-packages\\tensorflow\\python\\framework\\dtypes.py:527: FutureWarning: Passing (type, 1) or '1type' as a synonym of type is deprecated; in a future version of numpy, it will be understood as (type, (1,)) / '(1,)type'.\n",
      "  _np_quint8 = np.dtype([(\"quint8\", np.uint8, 1)])\n",
      "C:\\Users\\JambonEmmental\\Anaconda3\\lib\\site-packages\\tensorflow\\python\\framework\\dtypes.py:528: FutureWarning: Passing (type, 1) or '1type' as a synonym of type is deprecated; in a future version of numpy, it will be understood as (type, (1,)) / '(1,)type'.\n",
      "  _np_qint16 = np.dtype([(\"qint16\", np.int16, 1)])\n",
      "C:\\Users\\JambonEmmental\\Anaconda3\\lib\\site-packages\\tensorflow\\python\\framework\\dtypes.py:529: FutureWarning: Passing (type, 1) or '1type' as a synonym of type is deprecated; in a future version of numpy, it will be understood as (type, (1,)) / '(1,)type'.\n",
      "  _np_quint16 = np.dtype([(\"quint16\", np.uint16, 1)])\n",
      "C:\\Users\\JambonEmmental\\Anaconda3\\lib\\site-packages\\tensorflow\\python\\framework\\dtypes.py:530: FutureWarning: Passing (type, 1) or '1type' as a synonym of type is deprecated; in a future version of numpy, it will be understood as (type, (1,)) / '(1,)type'.\n",
      "  _np_qint32 = np.dtype([(\"qint32\", np.int32, 1)])\n",
      "C:\\Users\\JambonEmmental\\Anaconda3\\lib\\site-packages\\tensorflow\\python\\framework\\dtypes.py:535: FutureWarning: Passing (type, 1) or '1type' as a synonym of type is deprecated; in a future version of numpy, it will be understood as (type, (1,)) / '(1,)type'.\n",
      "  np_resource = np.dtype([(\"resource\", np.ubyte, 1)])\n"
     ]
    },
    {
     "name": "stdout",
     "output_type": "stream",
     "text": [
      "WARNING:tensorflow:From C:\\Users\\JambonEmmental\\Anaconda3\\lib\\site-packages\\tensorflow\\python\\ops\\resource_variable_ops.py:435: colocate_with (from tensorflow.python.framework.ops) is deprecated and will be removed in a future version.\n",
      "Instructions for updating:\n",
      "Colocations handled automatically by placer.\n",
      "WARNING:tensorflow:From C:\\Users\\JambonEmmental\\Anaconda3\\lib\\site-packages\\tensorflow\\python\\ops\\math_ops.py:3066: to_int32 (from tensorflow.python.ops.math_ops) is deprecated and will be removed in a future version.\n",
      "Instructions for updating:\n",
      "Use tf.cast instead.\n",
      "Train on 60635 samples, validate on 60635 samples\n",
      "Epoch 1/10\n",
      "60635/60635 [==============================] - 126s 2ms/step - loss: 0.4726 - accuracy: 0.8551 - val_loss: 0.1042 - val_accuracy: 0.9696\n",
      "Epoch 2/10\n",
      "60635/60635 [==============================] - 132s 2ms/step - loss: 0.1106 - accuracy: 0.9669 - val_loss: 0.0605 - val_accuracy: 0.9817\n",
      "Epoch 3/10\n",
      "60635/60635 [==============================] - 138s 2ms/step - loss: 0.0792 - accuracy: 0.9757 - val_loss: 0.0426 - val_accuracy: 0.9873\n",
      "Epoch 4/10\n",
      "60635/60635 [==============================] - 131s 2ms/step - loss: 0.0591 - accuracy: 0.9819 - val_loss: 0.0328 - val_accuracy: 0.9901\n",
      "Epoch 5/10\n",
      "60635/60635 [==============================] - 133s 2ms/step - loss: 0.0513 - accuracy: 0.9840 - val_loss: 0.0317 - val_accuracy: 0.9907\n",
      "Epoch 6/10\n",
      "60635/60635 [==============================] - 136s 2ms/step - loss: 0.0442 - accuracy: 0.9863 - val_loss: 0.0230 - val_accuracy: 0.9929\n",
      "Epoch 7/10\n",
      "60635/60635 [==============================] - 145s 2ms/step - loss: 0.0403 - accuracy: 0.9875 - val_loss: 0.0215 - val_accuracy: 0.9938\n",
      "Epoch 8/10\n",
      "60635/60635 [==============================] - 134s 2ms/step - loss: 0.0349 - accuracy: 0.9891 - val_loss: 0.0178 - val_accuracy: 0.9947\n",
      "Epoch 9/10\n",
      "60635/60635 [==============================] - 135s 2ms/step - loss: 0.0305 - accuracy: 0.9904 - val_loss: 0.0161 - val_accuracy: 0.9949\n",
      "Epoch 10/10\n",
      "60635/60635 [==============================] - 131s 2ms/step - loss: 0.0292 - accuracy: 0.9906 - val_loss: 0.0134 - val_accuracy: 0.9960\n"
     ]
    },
    {
     "data": {
      "text/plain": [
       "<keras.callbacks.callbacks.History at 0x24ea0e872c8>"
      ]
     },
     "execution_count": 29,
     "metadata": {},
     "output_type": "execute_result"
    }
   ],
   "source": [
    "from keras.datasets import mnist\n",
    "from keras.models import Sequential\n",
    "from keras.layers import Dense\n",
    "from keras.layers import Dropout\n",
    "from keras.layers import Flatten\n",
    "from keras.layers.convolutional import Conv2D\n",
    "from keras.layers.convolutional import MaxPooling2D\n",
    "from keras.utils import np_utils\n",
    "\n",
    "\n",
    "train_images_augmented =train_images_augmented.reshape((train_images_augmented.shape[0], 28, 28, 1)).astype('float32')\n",
    "test_images = test_images.reshape((test_images.shape[0], 28, 28, 1)).astype('float32')\n",
    "# normalize inputs from 0-255 to 0-1\n",
    "train_images_augmented= train_images_augmented / 255\n",
    "test_images = test_images / 255\n",
    "# one hot encode outputs\n",
    "train_labels_augmented= np_utils.to_categorical(train_labels_augmented)\n",
    "test_labels = np_utils.to_categorical(test_labels)\n",
    "num_classes = train_labels_augmented.shape[1]\n",
    "# define the larger model\n",
    "def larger_model():\n",
    "\t# create model\n",
    "\tmodel = Sequential()\n",
    "\tmodel.add(Conv2D(30, (5, 5), input_shape=(28, 28, 1), activation='relu'))\n",
    "\tmodel.add(MaxPooling2D())\n",
    "\tmodel.add(Conv2D(15, (3, 3), activation='relu'))\n",
    "\tmodel.add(MaxPooling2D())\n",
    "\tmodel.add(Dropout(0.2))\n",
    "\tmodel.add(Flatten())\n",
    "\tmodel.add(Dense(128, activation='relu'))\n",
    "\tmodel.add(Dense(50, activation='relu'))\n",
    "\tmodel.add(Dense(num_classes, activation='softmax'))\n",
    "\t# Compile model\n",
    "\tmodel.compile(loss='categorical_crossentropy', optimizer='adam', metrics=['accuracy'])\n",
    "\treturn model\n",
    "# build the model\n",
    "model = larger_model()\n",
    "# Fit the model\n",
    "model.fit(train_images_augmented, train_labels_augmented, validation_data=(train_images_augmented, train_labels_augmented), epochs=10, batch_size=200)\n"
   ]
  },
  {
   "cell_type": "code",
   "execution_count": 30,
   "metadata": {},
   "outputs": [],
   "source": [
    "#we load it into a pkl"
   ]
  },
  {
   "cell_type": "code",
   "execution_count": 31,
   "metadata": {},
   "outputs": [],
   "source": [
    "import joblib\n",
    "filename = 'digits_cnn2.joblib.pkl'\n",
    "_ = joblib.dump(model, filename, compress=9)"
   ]
  },
  {
   "cell_type": "code",
   "execution_count": null,
   "metadata": {},
   "outputs": [],
   "source": []
  }
 ],
 "metadata": {
  "kernelspec": {
   "display_name": "Python 3",
   "language": "python",
   "name": "python3"
  },
  "language_info": {
   "codemirror_mode": {
    "name": "ipython",
    "version": 3
   },
   "file_extension": ".py",
   "mimetype": "text/x-python",
   "name": "python",
   "nbconvert_exporter": "python",
   "pygments_lexer": "ipython3",
   "version": "3.7.6"
  }
 },
 "nbformat": 4,
 "nbformat_minor": 4
}
